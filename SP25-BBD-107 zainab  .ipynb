{
 "cells": [
  {
   "cell_type": "markdown",
   "id": "2cd73d66-a012-4327-a53b-e7c0c960edcb",
   "metadata": {},
   "source": [
    "# zainab sohail\n"
   ]
  },
  {
   "cell_type": "markdown",
   "id": "dba4512b-c54c-45ff-bf81-0c3979117d48",
   "metadata": {},
   "source": [
    "# SP25-BBD-107"
   ]
  },
  {
   "cell_type": "markdown",
   "id": "4a216212-e2a7-43cd-b822-8de27ed1cbc2",
   "metadata": {},
   "source": [
    "# Assignment # 2"
   ]
  },
  {
   "cell_type": "code",
   "execution_count": 3,
   "id": "810e9c15-ba4b-424f-8110-3baaae92a5d0",
   "metadata": {},
   "outputs": [],
   "source": [
    "#Question no 1 Write a program to check if a number is positive, negative, or zero"
   ]
  },
  {
   "cell_type": "code",
   "execution_count": 10,
   "id": "ccc96593-7025-4b2c-8451-64dc7a33eeb9",
   "metadata": {},
   "outputs": [
    {
     "name": "stdout",
     "output_type": "stream",
     "text": [
      "The number is positive.\n"
     ]
    }
   ],
   "source": [
    " num = 15\n",
    " if num > 0:\n",
    "       print(\"The number is positive.\")\n",
    " elif num < 0:\n",
    "        print(\"The number is negative.\")\n",
    " else:\n",
    "        print(\"The number is zero.\")\n"
   ]
  },
  {
   "cell_type": "code",
   "execution_count": 11,
   "id": "e2b6e20b-44d3-4aed-b325-f8f6a4db48ab",
   "metadata": {},
   "outputs": [],
   "source": [
    "#Question # 2 Create a program to determine whether a given year is a leap year."
   ]
  },
  {
   "cell_type": "code",
   "execution_count": 15,
   "id": "63325dd2-b35a-435e-94c5-c6885af7b4d7",
   "metadata": {},
   "outputs": [
    {
     "name": "stdout",
     "output_type": "stream",
     "text": [
      "the year is not a leap year\n"
     ]
    }
   ],
   "source": [
    "year = 2009\n",
    "if year % 4 == 0:\n",
    "    print(\"the year is leap year\")\n",
    "else:\n",
    "    print(\"the year is not a leap year\")"
   ]
  },
  {
   "cell_type": "code",
   "execution_count": 16,
   "id": "21dfab14-ddf3-4fd5-b6e7-2be6cbb59dd8",
   "metadata": {},
   "outputs": [],
   "source": [
    "#Question # 3 (GRADE OF STUDENT)"
   ]
  },
  {
   "cell_type": "code",
   "execution_count": 26,
   "id": "02bc2ef6-64a2-4ad1-8e3f-8bf68650121b",
   "metadata": {},
   "outputs": [
    {
     "name": "stdout",
     "output_type": "stream",
     "text": [
      "B grade\n"
     ]
    }
   ],
   "source": [
    "marks = 55\n",
    "if marks >= 85:\n",
    "    print(\"A grade\") \n",
    "if marks <=69:\n",
    "    print(\"B grade\")  \n",
    "if marks <=50:\n",
    "    print(\"C grade\") \n",
    "if marks < 50:\n",
    "    print(\"F grade\") "
   ]
  },
  {
   "cell_type": "code",
   "execution_count": null,
   "id": "2ae5a60e-eed8-428d-a15d-2bc7980ad8b7",
   "metadata": {},
   "outputs": [],
   "source": []
  }
 ],
 "metadata": {
  "kernelspec": {
   "display_name": "anaconda-panel-2023.05-py310",
   "language": "python",
   "name": "conda-env-anaconda-panel-2023.05-py310-py"
  },
  "language_info": {
   "codemirror_mode": {
    "name": "ipython",
    "version": 3
   },
   "file_extension": ".py",
   "mimetype": "text/x-python",
   "name": "python",
   "nbconvert_exporter": "python",
   "pygments_lexer": "ipython3",
   "version": "3.11.5"
  }
 },
 "nbformat": 4,
 "nbformat_minor": 5
}
